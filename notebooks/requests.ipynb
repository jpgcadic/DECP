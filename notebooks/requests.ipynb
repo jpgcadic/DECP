{
 "cells": [
  {
   "cell_type": "code",
   "execution_count": 1,
   "id": "97b05e4f-084b-4407-a9c4-1b9cacbe8200",
   "metadata": {},
   "outputs": [],
   "source": [
    "getCodeInVersion = \"MATCH(c:CPV), (v:CPV) WHERE c.code = '{}' AND v.versionCPV = '{}' AND ((c:CPV)-[:IS_IN_CATEGORY*1..5]-(v:CPV)) RETURN c\"\n",
    "# request = getCodeInVersion.format(code, version)\n",
    "# result = db.cypher_query(request, resolve_objects=True)\n"
   ]
  }
 ],
 "metadata": {
  "kernelspec": {
   "display_name": "neo4j",
   "language": "python",
   "name": "neo4j"
  },
  "language_info": {
   "codemirror_mode": {
    "name": "ipython",
    "version": 3
   },
   "file_extension": ".py",
   "mimetype": "text/x-python",
   "name": "python",
   "nbconvert_exporter": "python",
   "pygments_lexer": "ipython3",
   "version": "3.11.10"
  }
 },
 "nbformat": 4,
 "nbformat_minor": 5
}
